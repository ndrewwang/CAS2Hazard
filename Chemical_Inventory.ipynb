{
 "cells": [
  {
   "cell_type": "code",
   "execution_count": 1,
   "id": "52d3ecfd-f1c1-4e51-9efd-d608db9896e5",
   "metadata": {},
   "outputs": [],
   "source": [
    "import pandas\n",
    "from functions import CAS2Hazard"
   ]
  },
  {
   "cell_type": "code",
   "execution_count": 2,
   "id": "13177fef-ccbc-427f-84a6-8c523644e310",
   "metadata": {},
   "outputs": [],
   "source": [
    "CAS_list = [\"21324-40-3\"]\n",
    "export_dir = 'output/'"
   ]
  },
  {
   "cell_type": "code",
   "execution_count": 3,
   "id": "adba212d-fc8c-4d18-93d2-3850aaaba0d8",
   "metadata": {},
   "outputs": [
    {
     "name": "stdout",
     "output_type": "stream",
     "text": [
      "Processed 1 chemicals out of 1 CAS numbers received\n"
     ]
    }
   ],
   "source": [
    "chemicalsDF, Hunique, Punique, PPEunique = CAS2Hazard.run(CAS_list,export_dir)"
   ]
  },
  {
   "cell_type": "code",
   "execution_count": 4,
   "id": "28eee53a-5371-4188-a4b7-c37db78083da",
   "metadata": {},
   "outputs": [
    {
     "data": {
      "text/html": [
       "<div>\n",
       "<style scoped>\n",
       "    .dataframe tbody tr th:only-of-type {\n",
       "        vertical-align: middle;\n",
       "    }\n",
       "\n",
       "    .dataframe tbody tr th {\n",
       "        vertical-align: top;\n",
       "    }\n",
       "\n",
       "    .dataframe thead th {\n",
       "        text-align: right;\n",
       "    }\n",
       "</style>\n",
       "<table border=\"1\" class=\"dataframe\">\n",
       "  <thead>\n",
       "    <tr style=\"text-align: right;\">\n",
       "      <th></th>\n",
       "      <th>CAS</th>\n",
       "      <th>Name</th>\n",
       "      <th>ProductNumber</th>\n",
       "      <th>sigmaURL</th>\n",
       "      <th>sds</th>\n",
       "      <th>Pictograms</th>\n",
       "      <th>Hazards</th>\n",
       "      <th>Precautions</th>\n",
       "    </tr>\n",
       "  </thead>\n",
       "  <tbody>\n",
       "    <tr>\n",
       "      <th>0</th>\n",
       "      <td>21324-40-3</td>\n",
       "      <td>Lithium hexafluorophosphate solution</td>\n",
       "      <td>746711</td>\n",
       "      <td>https://www.sigmaaldrich.com/GB/en/product/ald...</td>\n",
       "      <td>https://www.sigmaaldrich.com/GB/en/sds/sial/74...</td>\n",
       "      <td>{'GHS02': 'Flammable', 'GHS07': 'Harmful', 'GH...</td>\n",
       "      <td>{'H226': 'Flammable liquid and vapor.', 'H302'...</td>\n",
       "      <td>{'P210': 'Keep away from heat/sparks/open flam...</td>\n",
       "    </tr>\n",
       "  </tbody>\n",
       "</table>\n",
       "</div>"
      ],
      "text/plain": [
       "          CAS                                  Name ProductNumber  \\\n",
       "0  21324-40-3  Lithium hexafluorophosphate solution        746711   \n",
       "\n",
       "                                            sigmaURL  \\\n",
       "0  https://www.sigmaaldrich.com/GB/en/product/ald...   \n",
       "\n",
       "                                                 sds  \\\n",
       "0  https://www.sigmaaldrich.com/GB/en/sds/sial/74...   \n",
       "\n",
       "                                          Pictograms  \\\n",
       "0  {'GHS02': 'Flammable', 'GHS07': 'Harmful', 'GH...   \n",
       "\n",
       "                                             Hazards  \\\n",
       "0  {'H226': 'Flammable liquid and vapor.', 'H302'...   \n",
       "\n",
       "                                         Precautions  \n",
       "0  {'P210': 'Keep away from heat/sparks/open flam...  "
      ]
     },
     "execution_count": 4,
     "metadata": {},
     "output_type": "execute_result"
    }
   ],
   "source": [
    "chemicalsDF"
   ]
  }
 ],
 "metadata": {
  "kernelspec": {
   "display_name": "Python 3 (ipykernel)",
   "language": "python",
   "name": "python3"
  },
  "language_info": {
   "codemirror_mode": {
    "name": "ipython",
    "version": 3
   },
   "file_extension": ".py",
   "mimetype": "text/x-python",
   "name": "python",
   "nbconvert_exporter": "python",
   "pygments_lexer": "ipython3",
   "version": "3.10.2"
  }
 },
 "nbformat": 4,
 "nbformat_minor": 5
}
