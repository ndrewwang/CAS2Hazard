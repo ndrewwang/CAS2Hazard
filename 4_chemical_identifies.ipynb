{
 "cells": [
  {
   "cell_type": "markdown",
   "metadata": {},
   "source": [
    "# How do we represent half cell redox reactions as strings?\n",
    "\n",
    "* Comparing SMILES/SMARTS/SMIRKS\n",
    "    * https://jcheminf.biomedcentral.com/track/pdf/10.1186/s13321-020-00466-z.pdf\n",
    "\n",
    "---"
   ]
  },
  {
   "cell_type": "code",
   "execution_count": 161,
   "metadata": {},
   "outputs": [
    {
     "data": {
      "text/html": [
       "<details>\n",
       "<summary>Click to view session information</summary>\n",
       "<pre>\n",
       "-----\n",
       "functions                   NA\n",
       "numpy                       1.21.5\n",
       "pandas                      1.0.1\n",
       "psycopg2                    2.9.1 (dt dec pq3 ext lo64)\n",
       "rdkit                       2021.09.5\n",
       "session_info                1.0.0\n",
       "sqlalchemy                  1.3.13\n",
       "sqlalchemy_schemadisplay    NA\n",
       "-----\n",
       "</pre>\n",
       "<details>\n",
       "<summary>Click to view modules imported as dependencies</summary>\n",
       "<pre>\n",
       "PIL                 7.0.0\n",
       "PyObjCTools         NA\n",
       "anyio               NA\n",
       "appnope             0.1.0\n",
       "attr                19.3.0\n",
       "babel               2.8.0\n",
       "backcall            0.1.0\n",
       "bottleneck          1.3.2\n",
       "brotli              1.0.9\n",
       "certifi             2021.05.30\n",
       "cffi                1.14.0\n",
       "chardet             3.0.4\n",
       "chemspipy           2.0.0\n",
       "colorama            0.4.3\n",
       "cycler              0.10.0\n",
       "cython_runtime      NA\n",
       "dateutil            2.8.1\n",
       "decorator           4.4.1\n",
       "dot_parser          NA\n",
       "entrypoints         0.3\n",
       "google              NA\n",
       "idna                2.10\n",
       "importlib_metadata  1.5.0\n",
       "ipykernel           5.1.4\n",
       "ipython_genutils    0.2.0\n",
       "jedi                0.14.1\n",
       "jinja2              2.11.1\n",
       "json5               NA\n",
       "jsonschema          3.2.0\n",
       "jupyter_server      1.11.0\n",
       "jupyterlab_server   2.8.1\n",
       "kiwisolver          1.1.0\n",
       "markupsafe          1.1.1\n",
       "matplotlib          3.4.3\n",
       "mpl_toolkits        NA\n",
       "nbclassic           NA\n",
       "nbformat            5.0.4\n",
       "node                NA\n",
       "packaging           20.1\n",
       "parso               0.5.2\n",
       "pexpect             4.8.0\n",
       "pickleshare         0.7.5\n",
       "prometheus_client   NA\n",
       "prompt_toolkit      3.0.3\n",
       "ptyprocess          0.6.0\n",
       "pvectorc            NA\n",
       "pydot               1.4.2\n",
       "pygments            2.5.2\n",
       "pyparsing           2.4.7\n",
       "pyrsistent          NA\n",
       "pytz                2021.3\n",
       "requests            2.24.0\n",
       "rubicon             NA\n",
       "send2trash          NA\n",
       "simplejson          3.17.2\n",
       "six                 1.16.0\n",
       "sniffio             1.2.0\n",
       "socks               1.7.1\n",
       "sphinxcontrib       NA\n",
       "storemagic          NA\n",
       "terminado           0.8.3\n",
       "tornado             6.1\n",
       "traitlets           4.3.3\n",
       "typing_extensions   NA\n",
       "urllib3             1.25.11\n",
       "wcwidth             NA\n",
       "websocket           1.2.1\n",
       "zipp                NA\n",
       "zmq                 18.1.1\n",
       "zope                NA\n",
       "</pre>\n",
       "</details> <!-- seems like this ends pre, so might as well be explicit -->\n",
       "<pre>\n",
       "-----\n",
       "IPython             7.12.0\n",
       "jupyter_client      7.0.2\n",
       "jupyter_core        4.6.1\n",
       "jupyterlab          3.1.11\n",
       "notebook            6.0.3\n",
       "-----\n",
       "Python 3.7.6 (default, Jan  8 2020, 13:42:34) [Clang 4.0.1 (tags/RELEASE_401/final)]\n",
       "Darwin-19.6.0-x86_64-i386-64bit\n",
       "-----\n",
       "Session information updated at 2022-04-11 14:45\n",
       "</pre>\n",
       "</details>"
      ],
      "text/plain": [
       "<IPython.core.display.HTML object>"
      ]
     },
     "execution_count": 161,
     "metadata": {},
     "output_type": "execute_result"
    }
   ],
   "source": [
    "#INITIALIZE MODULES:\n",
    "#===========================================\n",
    "import pandas as pd\n",
    "import numpy as np\n",
    "import psycopg2\n",
    "from sqlalchemy import create_engine\n",
    "from IPython.display import Image\n",
    "from sqlalchemy import MetaData\n",
    "from sqlalchemy_schemadisplay import create_schema_graph\n",
    "\n",
    "#User defined\n",
    "import functions.fn_sql as fn_sql\n",
    "import functions.fn_doi as fn_doi\n",
    "import functions.fn_chem as fn_chem\n",
    "\n",
    "import session_info\n",
    "session_info.show()"
   ]
  },
  {
   "cell_type": "markdown",
   "metadata": {
    "tags": []
   },
   "source": [
    "---\n",
    "# CIRPY PACKAGE: INCHI\n",
    "\n",
    "https://cirpy.readthedocs.io/en/latest/guide/gettingstarted.html\n",
    "\n",
    "FORMATS:\n",
    "\n",
    "stdinchi\n",
    "stdinchikey\n",
    "inchi\n",
    "smiles\n",
    "ficts\n",
    "ficus\n",
    "uuuuu\n",
    "hashisy\n",
    "sdf\n",
    "names\n",
    "iupac_name\n",
    "cas\n",
    "formula\n"
   ]
  },
  {
   "cell_type": "code",
   "execution_count": 28,
   "metadata": {},
   "outputs": [
    {
     "data": {
      "text/plain": [
       "{'abbreviation': 'bistris',\n",
       " 'iupac': '2-(Bis(2-hydroxyethyl)amino)-2-(hydroxymethyl)propane-1,3-diol',\n",
       " 'formula': 'C8H19NO5',\n",
       " 'smiles': 'OCCN(CCO)C(CO)(CO)CO',\n",
       " 'inchi': 'InChI=1/C8H19NO5/c10-3-1-9(2-4-11)8(5-12,6-13)7-14/h10-14H,1-7H2',\n",
       " 'stdinchi': 'InChI=1S/C8H19NO5/c10-3-1-9(2-4-11)8(5-12,6-13)7-14/h10-14H,1-7H2',\n",
       " 'stdinchikey': 'InChIKey=OWMVSZAMULFTJU-UHFFFAOYSA-N',\n",
       " 'cas': '6976-37-0',\n",
       " 'class': 'active',\n",
       " 'molecular_weight': '209.2418',\n",
       " 'name': ['2-(Bis(2-hydroxyethyl)amino)-2-(hydroxymethyl)propane-1,3-diol',\n",
       "  '2-(bis(2-hydroxyethyl)amino)-2-methylol-propane-1,3-diol',\n",
       "  '6976-37-0',\n",
       "  'NSC119932',\n",
       "  'NSC 119932',\n",
       "  'CHEBI:41250',\n",
       "  '2-[bis(2-hydroxyethyl)amino]-2-(hydroxymethyl)propane-1,3-diol',\n",
       "  'B9754_SIGMA',\n",
       "  'BIS-2-HYDROXY-IMINO-TRIS-HYDROXYMETHYL-METHANE',\n",
       "  'B4429_SIGMA',\n",
       "  '2-(bis(2-hydroxyethyl)amino)-2-(hydroxymethyl)-1,3-propanediol',\n",
       "  '1,3-Propanediol, 2-[bis(2-hydroxyethyl)amino]-2-(hydroxymethyl)-',\n",
       "  \"2,2-Bis(hydroxymethyl)-2,2',2''-nitrilotriethanol\",\n",
       "  '2-[Bis(2-hydroxyethyl)amino)]-2-hydroxymethyl-1,3-propanediol',\n",
       "  'Bistris',\n",
       "  'NSC24868',\n",
       "  '2,2-Bis(hydroxymethyl)-2,2\\',2\"-nitrilotriethanol',\n",
       "  'BIS-TRIS BUFFER',\n",
       "  'BTB',\n",
       "  '2-(Bis(2-hydroxyethyl)amino)-2-(hydroxymethyl)propane-1,3-diol',\n",
       "  'EINECS 230-237-7',\n",
       "  'Bis(2-hydroxyethyl)-(iminotris)hydroxymethyl)methane',\n",
       "  'NSC 24868',\n",
       "  '14879_FLUKA',\n",
       "  '2,2-Bis(hydroxymethyl)-2,2&#8242;,2&#8243;-nitrilotriethanol',\n",
       "  '2-Bis(2-hydroxyethyl)amino-2-(hydroxymethyl)-1,3-propanediol',\n",
       "  'BIS-TRIS',\n",
       "  'Bis(2-hydroxyethyl)amino-tris(hydroxymethyl)methane',\n",
       "  '2-[BIS-(2-HYDROXY-ETHYL)-AMINO]-2-HYDROXYMETHYL-PROPANE-1,3-DIOL',\n",
       "  '1,3-Propanediol, 2-(bis(2-hydroxyethyl)amino)-2-(hydroxymethyl)-',\n",
       "  'B7535_SIGMA']}"
      ]
     },
     "metadata": {},
     "output_type": "display_data"
    }
   ],
   "source": [
    "def make_compound_dict(identifier,class_type,abbreviation):\n",
    "    import cirpy\n",
    "\n",
    "    mol = dict()\n",
    "    mol['abbreviation'] = abbreviation\n",
    "    mol['iupac'] = cirpy.resolve(identifier, 'iupac_name')\n",
    "    mol['formula'] = cirpy.resolve(identifier, 'formula')\n",
    "    mol['smiles'] = cirpy.resolve(identifier, 'smiles')\n",
    "    mol['inchi'] = cirpy.resolve(identifier, 'inchi')\n",
    "    mol['stdinchi'] = cirpy.resolve(identifier, 'stdinchi')\n",
    "    mol['stdinchikey'] = cirpy.resolve(identifier, 'stdinchikey')\n",
    "    mol['cas'] = cirpy.resolve(identifier, 'cas')\n",
    "    mol['class'] = class_type\n",
    "    mol['molecular_weight'] = cirpy.resolve(identifier, 'mw')\n",
    "    mol['name'] = cirpy.resolve(identifier, 'names')\n",
    "\n",
    "    return mol\n",
    "\n",
    "identifier = 'OCCN(CCO)C(CO)(CO)CO'\n",
    "class_type = 'active'\n",
    "abbreviation = 'bistris'\n",
    "\n",
    "mol = make_compound_dict(identifier,class_type,abbreviation)\n",
    "display(mol)"
   ]
  },
  {
   "cell_type": "markdown",
   "metadata": {},
   "source": [
    "---\n",
    "# Single `compound`\n",
    "\n",
    "* Choose compounds based on chemspider IDs (csid)\n",
    "* Search compounds at http://www.chemspider.com/"
   ]
  },
  {
   "cell_type": "code",
   "execution_count": 162,
   "metadata": {},
   "outputs": [
    {
     "data": {
      "text/html": [
       "<div>\n",
       "<style scoped>\n",
       "    .dataframe tbody tr th:only-of-type {\n",
       "        vertical-align: middle;\n",
       "    }\n",
       "\n",
       "    .dataframe tbody tr th {\n",
       "        vertical-align: top;\n",
       "    }\n",
       "\n",
       "    .dataframe thead th {\n",
       "        text-align: right;\n",
       "    }\n",
       "</style>\n",
       "<table border=\"1\" class=\"dataframe\">\n",
       "  <thead>\n",
       "    <tr style=\"text-align: right;\">\n",
       "      <th></th>\n",
       "      <th>compound_id</th>\n",
       "      <th>common_name</th>\n",
       "      <th>formula</th>\n",
       "      <th>smiles</th>\n",
       "      <th>molecular_weight</th>\n",
       "      <th>nominal_mass</th>\n",
       "      <th>abbreviation</th>\n",
       "      <th>image_url</th>\n",
       "      <th>active</th>\n",
       "      <th>support</th>\n",
       "      <th>solvent</th>\n",
       "    </tr>\n",
       "  </thead>\n",
       "  <tbody>\n",
       "    <tr>\n",
       "      <th>0</th>\n",
       "      <td>937</td>\n",
       "      <td>Water</td>\n",
       "      <td>H_{2}O</td>\n",
       "      <td>O</td>\n",
       "      <td>18.0153</td>\n",
       "      <td>18</td>\n",
       "      <td>H2O</td>\n",
       "      <td>http://www.chemspider.com/ImagesHandler.ashx?i...</td>\n",
       "      <td>0</td>\n",
       "      <td>0</td>\n",
       "      <td>1</td>\n",
       "    </tr>\n",
       "  </tbody>\n",
       "</table>\n",
       "</div>"
      ],
      "text/plain": [
       "   compound_id common_name formula smiles  molecular_weight  nominal_mass  \\\n",
       "0          937       Water  H_{2}O      O           18.0153            18   \n",
       "\n",
       "  abbreviation                                          image_url  active  \\\n",
       "0          H2O  http://www.chemspider.com/ImagesHandler.ashx?i...       0   \n",
       "\n",
       "   support  solvent  \n",
       "0        0        1  "
      ]
     },
     "metadata": {},
     "output_type": "display_data"
    },
    {
     "data": {
      "image/png": "[encoded data removed]",
      "text/plain": [
       "Compound(937)"
      ]
     },
     "metadata": {},
     "output_type": "display_data"
    }
   ],
   "source": [
    "# SINGLE COMPOUND:\n",
    "#===========================================\n",
    "#::::::::::::::::::::::::::::::::::::::\n",
    "chemspider_id = 937 \n",
    "active = 0 #boolean\n",
    "support = 0\n",
    "solvent = 1\n",
    "abbreviation = 'H2O'\n",
    "#::::::::::::::::::::::::::::::::::::::\n",
    "mol,compound_image = fn_chem.make_compound_dict(chemspider_id,active,support,solvent,abbreviation)\n",
    "df = pd.DataFrame([mol])\n",
    "display(df)\n",
    "display(compound_image) #image"
   ]
  },
  {
   "cell_type": "markdown",
   "metadata": {},
   "source": [
    "---\n",
    "# Chemical reaction string (Redox rxns)\n",
    "\n",
    "* using SMARTS?"
   ]
  },
  {
   "cell_type": "code",
   "execution_count": 200,
   "metadata": {},
   "outputs": [
    {
     "data": {
      "image/png": "[encoded data removed]",
      "text/plain": [
       "<rdkit.Chem.rdChemReactions.ChemicalReaction at 0x7fcd372613a0>"
      ]
     },
     "metadata": {},
     "output_type": "display_data"
    }
   ],
   "source": [
    "#RXN: RDKit sample code:\n",
    "#===========================================\n",
    "#https://towardsdatascience.com/basic-molecular-representation-for-machine-learning-b6be52e9ff76\n",
    "\n",
    "from rdkit.Chem import AllChem\n",
    "smarts = '[OH2]>>[Fe+3]' #wtf is an electron\n",
    "smarts = 'C>[OH2].[Cl-].OCC>CC(=O)OCC'\n",
    "rxn = AllChem.ReactionFromSmarts(smarts)\n",
    "display(rxn)"
   ]
  },
  {
   "cell_type": "code",
   "execution_count": 228,
   "metadata": {},
   "outputs": [
    {
     "data": {
      "image/png": "[encoded data removed]",
      "text/plain": [
       "<rdkit.Chem.rdchem.Mol at 0x7fcd37395850>"
      ]
     },
     "metadata": {},
     "output_type": "display_data"
    }
   ],
   "source": [
    "#SMILES molecules\n",
    "#===========================================\n",
    "\n",
    "smiles = 'O'\n",
    "mol = Chem.MolFromSmiles(smiles)\n",
    "display(mol)"
   ]
  },
  {
   "cell_type": "code",
   "execution_count": null,
   "metadata": {},
   "outputs": [],
   "source": []
  }
 ],
 "metadata": {
  "kernelspec": {
   "display_name": "Python 3",
   "language": "python",
   "name": "python3"
  },
  "language_info": {
   "codemirror_mode": {
    "name": "ipython",
    "version": 3
   },
   "file_extension": ".py",
   "mimetype": "text/x-python",
   "name": "python",
   "nbconvert_exporter": "python",
   "pygments_lexer": "ipython3",
   "version": "3.7.6"
  }
 },
 "nbformat": 4,
 "nbformat_minor": 4
}
