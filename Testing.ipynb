{
 "cells": [
  {
   "cell_type": "markdown",
   "id": "d8e781b6-db4f-48a0-8c4f-5976aba4e243",
   "metadata": {},
   "source": [
    "# CAS2Hazard Demonstration"
   ]
  },
  {
   "cell_type": "code",
   "execution_count": 1,
   "id": "52d3ecfd-f1c1-4e51-9efd-d608db9896e5",
   "metadata": {
    "tags": []
   },
   "outputs": [],
   "source": [
    "# Libraries\n",
    "#=================================\n",
    "import re\n",
    "import os\n",
    "import sys\n",
    "import time\n",
    "import pandas\n",
    "from bs4 import BeautifulSoup\n",
    "from selenium import webdriver\n",
    "import ghs_hazard_pictogram\n",
    "import requests\n",
    "import csv\n",
    "\n",
    "#Custom function\n",
    "from functions import CAS2Hazard"
   ]
  },
  {
   "cell_type": "code",
   "execution_count": 2,
   "id": "adba212d-fc8c-4d18-93d2-3850aaaba0d8",
   "metadata": {},
   "outputs": [
    {
     "name": "stdout",
     "output_type": "stream",
     "text": [
      "Files exporting to: /Users/andrew/Dropbox/Research/DPhil/Lab Maintenance/cas2hazard/\n",
      "['href=\"/GB/en/product/', 'sigma/w4502', '\"', 'href=\"/GB/en/product/', 'sigma/w4502', '\"', 'href=\"/GB/en/product/', 'sigald/270733', '\"', 'href=\"/GB/en/product/', 'sigald/270733', '\"', 'href=\"/GB/en/product/', 'sigma/w3500', '\"', 'href=\"/GB/en/product/', 'sigma/w3500', '\"', 'href=\"/GB/en/product/', 'mm/115333', '\"', 'href=\"/GB/en/product/', 'mm/115333', '\"', 'href=\"/GB/en/product/', 'mm/486505', '\"', 'href=\"/GB/en/product/', 'mm/486505', '\"', 'href=\"/GB/en/product/', 'sial/00612', '\"', 'href=\"/GB/en/product/', 'sial/00612', '\"', 'href=\"/GB/en/product/', 'sial/900682', '\"', 'href=\"/GB/en/product/', 'sial/900682', '\"', 'href=\"/GB/en/product/', 'sigald/38796', '\"', 'href=\"/GB/en/product/', 'sigald/38796', '\"', 'href=\"/GB/en/product/', 'sigma/95284', '\"', 'href=\"/GB/en/product/', 'sigma/95284', '\"', 'href=\"/GB/en/product/', 'sial/34877m', '\"', 'href=\"/GB/en/product/', 'sial/34877m', '\"', 'href=\"/GB/en/product/', 'sigma/w1503', '\"', 'href=\"/GB/en/product/', 'sigma/w1503', '\"', 'href=\"/GB/en/product/', 'sial/78533', '\"', 'href=\"/GB/en/product/', 'sial/78533', '\"', 'href=\"/GB/en/product/', 'mm/103728', '\"', 'href=\"/GB/en/product/', 'mm/103728', '\"', 'href=\"/GB/en/product/', 'mm/693520', '\"', 'href=\"/GB/en/product/', 'mm/693520', '\"', 'href=\"/GB/en/product/', 'sial/14211', '\"', 'href=\"/GB/en/product/', 'sial/14211', '\"', 'href=\"/GB/en/product/', 'mm/848333', '\"', 'href=\"/GB/en/product/', 'mm/848333', '\"', 'href=\"/GB/en/product/', 'sial/denwat', '\"', 'href=\"/GB/en/product/', 'sial/denwat', '\"', 'href=\"/GB/en/product/', 'mm/9601op', '\"', 'href=\"/GB/en/product/', 'mm/9601op', '\"', 'href=\"/GB/en/product/', 'sigma/w3513', '\"', 'href=\"/GB/en/product/', 'sigma/w3513', '\"', 'href=\"/GB/en/product/', 'sigma/95289', '\"', 'href=\"/GB/en/product/', 'sigma/95289', '\"', 'href=\"/GB/en/product/', 'mm/101262', '\"', 'href=\"/GB/en/product/', 'mm/101262', '\"', 'href=\"/GB/en/product/', 'sigma/wta2', '\"', 'href=\"/GB/en/product/', 'sigma/wta2', '\"', 'href=\"/GB/en/product/', 'sigma/coret', '\"', 'href=\"/GB/en/product/', 'sigma/coret', '\"', 'href=\"/GB/en/product/', 'sigma/w1754', '\"', 'href=\"/GB/en/product/', 'sigma/w1754', '\"', 'href=\"/GB/en/product/', 'mm/100473', '\"', 'href=\"/GB/en/product/', 'mm/100473', '\"', 'href=\"/GB/en/product/', 'sigma/wga4', '\"', 'href=\"/GB/en/product/', 'sigma/wga4', '\"', 'href=\"/GB/en/product/', 'mm/116754', '\"', 'href=\"/GB/en/product/', 'mm/116754', '\"', 'href=\"/GB/en/product/', 'mm/9801op', '\"', 'href=\"/GB/en/product/', 'mm/9801op', '\"', 'href=\"/GB/en/product/', 'sigma/hsrt100', '\"', 'href=\"/GB/en/product/', 'sigma/hsrt100', '\"', 'href=\"/GB/en/product/', 'sigald/320072', '\"', 'href=\"/GB/en/product/', 'sigald/320072', '\"']\n",
      "Added: 7732-18-5\n",
      "Processed 1 chemicals out of 1 CAS numbers received\n"
     ]
    }
   ],
   "source": [
    "# Run CAS2Hazard\n",
    "#=================================\n",
    "CAS_list = ['7732-18-5']\n",
    "chemicalsDF, Hunique, Punique, PPEunique = CAS2Hazard.run(CAS_list=CAS_list)"
   ]
  },
  {
   "cell_type": "code",
   "execution_count": 3,
   "id": "28eee53a-5371-4188-a4b7-c37db78083da",
   "metadata": {},
   "outputs": [
    {
     "data": {
      "text/html": [
       "<div>\n",
       "<style scoped>\n",
       "    .dataframe tbody tr th:only-of-type {\n",
       "        vertical-align: middle;\n",
       "    }\n",
       "\n",
       "    .dataframe tbody tr th {\n",
       "        vertical-align: top;\n",
       "    }\n",
       "\n",
       "    .dataframe thead th {\n",
       "        text-align: right;\n",
       "    }\n",
       "</style>\n",
       "<table border=\"1\" class=\"dataframe\">\n",
       "  <thead>\n",
       "    <tr style=\"text-align: right;\">\n",
       "      <th></th>\n",
       "      <th>CAS</th>\n",
       "      <th>Name</th>\n",
       "      <th>ProductNumber</th>\n",
       "      <th>sigmaURL</th>\n",
       "      <th>sds</th>\n",
       "      <th>PPE</th>\n",
       "    </tr>\n",
       "  </thead>\n",
       "  <tbody>\n",
       "    <tr>\n",
       "      <th>0</th>\n",
       "      <td>7732-18-5</td>\n",
       "      <td>Water</td>\n",
       "      <td>w4502</td>\n",
       "      <td>https://www.sigmaaldrich.com/GB/en/product/sig...</td>\n",
       "      <td>https://www.sigmaaldrich.com/GB/en/sds/sial/w4502</td>\n",
       "      <td>[dust mask type N95 (US), Eyeshields, Gloves]</td>\n",
       "    </tr>\n",
       "  </tbody>\n",
       "</table>\n",
       "</div>"
      ],
      "text/plain": [
       "         CAS   Name ProductNumber  \\\n",
       "0  7732-18-5  Water         w4502   \n",
       "\n",
       "                                            sigmaURL  \\\n",
       "0  https://www.sigmaaldrich.com/GB/en/product/sig...   \n",
       "\n",
       "                                                 sds  \\\n",
       "0  https://www.sigmaaldrich.com/GB/en/sds/sial/w4502   \n",
       "\n",
       "                                             PPE  \n",
       "0  [dust mask type N95 (US), Eyeshields, Gloves]  "
      ]
     },
     "metadata": {},
     "output_type": "display_data"
    }
   ],
   "source": [
    "# See Full Hazard Assessment \n",
    "#=================================\n",
    "display(chemicalsDF)"
   ]
  },
  {
   "cell_type": "code",
   "execution_count": null,
   "id": "75cb4b20-816c-4533-9cea-8b09fcc54d95",
   "metadata": {},
   "outputs": [],
   "source": []
  }
 ],
 "metadata": {
  "kernelspec": {
   "display_name": "Python 3 (ipykernel)",
   "language": "python",
   "name": "python3"
  },
  "language_info": {
   "codemirror_mode": {
    "name": "ipython",
    "version": 3
   },
   "file_extension": ".py",
   "mimetype": "text/x-python",
   "name": "python",
   "nbconvert_exporter": "python",
   "pygments_lexer": "ipython3",
   "version": "3.10.2"
  }
 },
 "nbformat": 4,
 "nbformat_minor": 5
}
